{
 "cells": [
  {
   "cell_type": "markdown",
   "metadata": {},
   "source": [
    "# 윈도우 Powershell에 zsh 설치법 정리\n",
    "\n",
    "+ Markdown 실습도 겸합니다\n",
    "\n",
    "## zsh 설치 전 linux ubuntu 설치\n",
    "\n",
    "스토어에서 Ubuntu를 검색해서 설치한다.\n",
    "![Install ubuntu](../docs/Images/Install_bash/ubuntu1.PNG)\n",
    "\n",
    "처음 실행하면 다음과 같이 뜨면서 몇 분 기다리라고 한 뒤 유저 네임을 만들라고 나온다\n",
    "![excute ubuntu](../docs/Images/Install_bash/ubuntu2.PNG)\n",
    "\n",
    "기존 윈도우에서의 C, D 같은 드라이브는 /mnt/ 폴더에 들어있다\n",
    "![excute ubuntu](../docs/Images/Install_bash/ubuntu3.PNG)\n",
    "\n",
    "## ubuntu에 zsh 설치\n",
    "\n",
    "```\n",
    "$ sudo apt install zsh` window ubuntu에서는 apt-get으로 쓰지않고 apt만 쓰는듯 하다.\n",
    "```\n",
    "\n",
    "### zsh 설치 확인\n",
    "```\n",
    "$ zsh --version\n",
    "\n",
    "zsh 5.1.1 (x86_64-ubuntu-linux-gnu)\n",
    "\n",
    "$ which zsh               #쉘의 위치를 확인한다.\n",
    "\n",
    "/usr/bin/zsh\n",
    "\n",
    "$ chsh -s /usr/bin/zsh    #기본 쉘을 변경한다.\n",
    "\n",
    "sudo apt-get install curl\n",
    "\n",
    "curl이 설치되어있지 않다면 설치 후 oh-my-zsh 설치\n",
    "\n",
    "curl -L https://raw.github.com/robbyrussell/oh-my-zsh/master/tools/install.sh | sh\n",
    "```\n",
    "\n",
    "\n",
    "\n",
    "\n",
    "\n"
   ]
  },
  {
   "cell_type": "markdown",
   "metadata": {},
   "source": []
  }
 ],
 "metadata": {
  "kernelspec": {
   "display_name": "Python 3",
   "language": "python",
   "name": "python3"
  },
  "language_info": {
   "codemirror_mode": {
    "name": "ipython",
    "version": 3
   },
   "file_extension": ".py",
   "mimetype": "text/x-python",
   "name": "python",
   "nbconvert_exporter": "python",
   "pygments_lexer": "ipython3",
   "version": "3.6.3"
  }
 },
 "nbformat": 4,
 "nbformat_minor": 2
}
